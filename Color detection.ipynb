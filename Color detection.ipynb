{
 "cells": [
  {
   "cell_type": "code",
   "execution_count": 1,
   "id": "e52d680c-5177-4e4f-95a7-30dc1a59e986",
   "metadata": {},
   "outputs": [
    {
     "name": "stdout",
     "output_type": "stream",
     "text": [
      "Clicked Color: Maya Blue\n",
      "Clicked Color: Light Gray\n",
      "Clicked Color: Light Gray\n",
      "Clicked Color: Midnight Blue\n"
     ]
    }
   ],
   "source": [
    "import cv2\n",
    "import pandas as pd\n",
    "\n",
    "image = cv2.imread(r\"C:\\Users\\sai\\Downloads\\archive (2)\\colorpic.jpg\")\n",
    "scale_percent = 80  \n",
    "width = int(image.shape[1] * scale_percent / 100)\n",
    "height = int(image.shape[0] * scale_percent / 100)\n",
    "dim = (width, height)\n",
    "resized_image = cv2.resize(image, dim, interpolation=cv2.INTER_AREA)\n",
    "\n",
    "index = ['color', 'color_name', 'hex', 'R', 'G', 'B']\n",
    "colors = pd.read_csv(r\"C:\\Users\\sai\\Downloads\\archive (2)\\colors.csv\", names=index, header=None)\n",
    "\n",
    "def getColorName(R, G, B):\n",
    "    minimum = 10000\n",
    "    for i in range(len(colors)):\n",
    "        d = abs(R - int(colors.loc[i, 'R'])) + abs(G - int(colors.loc[i, 'G'])) + abs(B - int(colors.loc[i, 'B']))\n",
    "        if d <= minimum:\n",
    "            minimum = d\n",
    "            cname = colors.loc[i, 'color_name']\n",
    "    return cname\n",
    "\n",
    "def on_mouse_click(event, x, y, flags, param):\n",
    "    if event == cv2.EVENT_LBUTTONDOWN:\n",
    "        b, g, r = resized_image[y, x]\n",
    "        color_name = getColorName(r, g, b)\n",
    "        print(f'Clicked Color: {color_name}')\n",
    "\n",
    "cv2.imshow('Color Detection', resized_image)\n",
    "cv2.setMouseCallback('Color Detection', on_mouse_click)\n",
    "\n",
    "cv2.waitKey(0)\n",
    "cv2.destroyAllWindows()\n"
   ]
  }
 ],
 "metadata": {
  "kernelspec": {
   "display_name": "Python 3 (ipykernel)",
   "language": "python",
   "name": "python3"
  },
  "language_info": {
   "codemirror_mode": {
    "name": "ipython",
    "version": 3
   },
   "file_extension": ".py",
   "mimetype": "text/x-python",
   "name": "python",
   "nbconvert_exporter": "python",
   "pygments_lexer": "ipython3",
   "version": "3.11.5"
  }
 },
 "nbformat": 4,
 "nbformat_minor": 5
}
